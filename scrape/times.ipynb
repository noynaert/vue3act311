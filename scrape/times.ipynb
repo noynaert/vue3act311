{
 "metadata": {
  "language_info": {
   "codemirror_mode": {
    "name": "ipython",
    "version": 3
   },
   "file_extension": ".py",
   "mimetype": "text/x-python",
   "name": "python",
   "nbconvert_exporter": "python",
   "pygments_lexer": "ipython3",
   "version": "3.9.2"
  },
  "orig_nbformat": 2,
  "kernelspec": {
   "name": "python392jvsc74a57bd063fd5069d213b44bf678585dea6b12cceca9941eaf7f819626cde1f2670de90d",
   "display_name": "Python 3.9.2 64-bit"
  },
  "metadata": {
   "interpreter": {
    "hash": "63fd5069d213b44bf678585dea6b12cceca9941eaf7f819626cde1f2670de90d"
   }
  }
 },
 "nbformat": 4,
 "nbformat_minor": 2,
 "cells": [
  {
   "source": [
    "# Classroom Utilization\n",
    "\n",
    "## Fall, 2021\n",
    "\n",
    "The data was collected by \"scraping\" the course schedule posted at [http://griff.vn/schedule](http://griff.vn/schedule).  The scraping was done using `Node.js`\n",
    "\n",
    "The data was scraped by department.  All departments were stored as a single JSON file.\n",
    "\n",
    "This analysis was done using Python in VS Studio's implementation of Jupyter notebooks."
   ],
   "cell_type": "markdown",
   "metadata": {}
  },
  {
   "cell_type": "code",
   "execution_count": 24,
   "metadata": {
    "tags": []
   },
   "outputs": [
    {
     "output_type": "stream",
     "name": "stdout",
     "text": [
      "MW\nTR\nTR\nTR\nTR\nTR\nMW\nMW\nMW\nMW\nMW\nR\nW\nW\nT\nT\nT\nW\nR\nM\nT\nW\nT\nT\nW\nW\nM\nW\nT\nW\nR\n\nMW\nMW\nMW\nMW\nMW\nT\nT\nW\nW\nW\nR\nR\nR\nR\n\n\nMW\nM\nT\nMW\nT\nT\nMW\nR\nMW\nT\nT\nR\nMW\nT\nT\nMW\nMW\nT\nT\nTW\nR\nT\nT\nW\nW\nR\nR\nMW\nMW\nTR\nTR\nMW\n\nMW\nR\nMW\nR\nMW\nMW\nM\nW\nTR\n\nMW\nMW\nTR\nTR\nTR\nM\nM\nW\nW\nMW\nR\n\n\n\n\n\n\n\n\n\n\n\n\n\n\n\n\n\n\n\n\n\n\n\n\n\n\n\n\n\n\n\n\n\n\n\n\nMW\nT\nT\nMW\nT\nR\nMW\nMW\n\n\nTR\n\n\n\n\nMW\nTR\n\nTR\nTR\n\n\nTR\nTR\nTR\n\n\n\n\n\n\nMW\n\nTR\nW\n\n\n\n\n\nM\n\nTR\n\nMW\nTR\nMW\nMW\nTR\nTR\nMW\nTR\nTR\nTR\nTR\n\nTR\nMW\n\nTR\nTR\n\n\n\n\n\n\n\n\nTR\n\n\nR\n\nMW\nMW\nMW\n\n\nTR\n\nMW\n\n\n\n\nTR\n\nW\n\nT\n\nTR\nTR\n\nTR\nTR\nTR\nMW\nTR\nMW\nMW\n\nTR\nTR\nMW\n\nTR\nMW\nMW\nM\nT\nT\nT\n\n\n\nMW\nMW\nMW\nT\nMTWR\nT\nT\nW\nR\nMW\nT\nMTWR\nM\nMW\nT\nR\nR\nM\nMW\nMW\nMW\nTR\nTR\nTR\nTR\n\nTR\nTR\nTR\nTR\n\nMW\nT\nMW\nT\nR\n\n\n\n\n\n\n\n\n\n\n\n\n\n\n\n\n\n\n\n\n\n\n\n\n\n\n\n\n\n\n\n\n\n\n\n\n\n\n\n\n\n\n\n\nTR\nTR\nTR\nMW\nMW\nMW\nTR\n\n\n\n\nMW\nTR\nTR\nMW\n\n\n\n\n\nTR\nMW\nMW\nMW\nMW\nTR\nTR\nTR\nTR\nTR\nTR\nMW\nMW\nTR\nTR\nTR\nTR\nMW\nMW\nMW\nMW\nMW\nTR\nTR\nTR\nTR\nMW\nMW\n\n\nMW\nTR\nTR\nTR\nMW\nMW\n\n\nTR\nTR\nW\nMW\n\n\nMW\nMW\nW\nTR\nMW\nTR\nTR\n\nTR\n\nMW\nMW\nTR\nMW\nMW\nMW\n\nMW\nTR\nW\n\n\n\nW\nTR\nTR\nTR\nTR\nMW\nMW\nR\n\nMW\nR\nMW\n\n\n\n\n\n\nW\nTR\n\n\nMW\nTR\nMW\nMW\nMW\nTR\nTR\nTR\n\nMW\nMW\nMW\nTR\nTR\nTR\n\n\n\n\n\n\n\n\nMW\nMW\nMW\nTR\nTR\nTR\nTR\n\nMW\nMW\nMW\nTR\nTR\nTR\nTR\n\n\n\n\n\n\n\n\n\nMW\n\nMW\nTR\nTR\n\n\nMW\nMW\nTR\nTR\nMW\nMW\nTR\n\n\n\nMW\n\nM\n\nT\nW\nR\n\n\nMW\nT\nT\nR\nMW\nMR\n\nW\n\n\nW\n\n\nMW\nTR\nMW\nTR\nW\nM\nM\nT\nTR\n\n\nW\n\n\n\nW\n\nTR\n\n\n\nR\n\n\nW\n\nW\nM\nMW\n\nM\nTR\nTR\nW\nT\n\nTR\n\nMTWRF\n\n\n\nTR\n\nMW\nTR\n\nTR\nMW\nTR\nTR\nTR\n\n\nMTWR\nMTWR\nMTWR\nMTWR\nTR\nTR\n\n\n\n\n\nMW\n\nF\nM\nW\nMW\nM\nTR\nT\nR\nM\nMW\n\nT\nMW\nR\nMTWR\nMTWR\nF\nF\nW\nMTWRF\nMTWRF\nT\nMTWR\nMTWR\n\nMTWRF\n\n\n\n\n\n\n\n\n\n\n\n\n\n\n\n\n\n\n\n\n\n\n\n\n\n\n\n\nM\n\n\n\n\nMW\nTR\nT\nR\nMW\nTR\n\n\nM\nW\nM\nW\nTR\nT\nR\nM\nW\nT\nT\nR\nR\nTR\nMW\nMW\n\n\nT\n\n\n\n\n\nM\nT\n\n\n\n\nTR\nT\n\n\nMW\nM\nM\nW\nW\nT\nR\nMW\n\n\nT\nR\n\n\nTR\nTR\nTR\nMW\nTR\nMW\nTR\nTR\nMW\n\nMW\nTR\nMW\n\nMW\nMW\nTR\nTR\nMW\nTR\nTR\nTR\nMW\nTR\nMW\nTR\nMW\nTR\nTR\nMW\nMW\nTR\nTR\nMW\nMW\nMW\nTR\nMW\nMW\nTR\nMW\nMW\nTR\nTR\n\n\nMW\nTR\n\n\n\n\n\n\nMW\nW\nT\nMW\nM\nTR\nM\nTR\nT\n\nMW\n\n\n\nTR\nMW\nMW\nMW\nMW\nF\nF\n\n\n\n\n\n\n\n\n\n\n\n\n\n\n\n\n\n\n\nF\nF\nF\nF\nF\nF\nF\n\n\n\n\n\n\n\n\n\n\n\n\n\n\n\n\n\n\n\n\n\n\n\n\n\n\n\n\n\n\n\n\n\n\n\n\n\n\nF\nF\nF\nF\nF\nF\nF\nF\nF\nF\nF\nF\nF\nF\nTR\nMW\nMW\n\n\n\n\n\n\n\n\n\n\n\n\n\n\n\n\n\n\n\n\n\n\n\n\n\n\n\n\n\n\n\n\n\n\n\n\n\nF\nF\nF\nF\nF\nF\nF\nF\nF\nF\nF\nF\nTR\nTR\nT\nMW\nTR\nTR\nTR\nMW\nMW\nMW\nTR\nTR\n\n\n\n\n\n\n\n\n\n\n\n\n\n\n\n\n\n\n\n\n\n\n\n\n\n\n\n\n\n\n\n\n\n\n\n\nF\nF\nF\nF\nF\nF\nF\nF\nF\nF\nF\nF\n\n\n\n\n\n\n\n\n\n\n\n\n\n\n\n\n\n\n\nTR\n\n\n\n\nTR\n\n\n\n\n\n\n\n\n\nMW\nMW\n\n\n\n\n\n\n\n\n\n\n\n\n\n\n\n\n\n\n\n\n\n\n\n\n\n\n\n\n\n\n\n\n\n\n\n\nF\nF\nF\nF\nF\nF\nF\nF\nF\nF\nF\nF\n\n\n\n\n\n\n\n\n\n\n\n\n\n\n\n\n\n\n\n\n\n\n\n\n\n\n\n\n\n\n\n\n\n\n\n\n\n\n\n\n\nR\n\n\nTR\n\n\n\n\n\n\n\n\n\n\n\n\n\n\nTR\nTR\nTR\nTR\n\n\n\n\n\n\nM\nM\nTR\nTR\nTR\nTR\nW\nW\nTR\n\n\n\nTR\n\nTR\nMW\nTR\nTR\n\n\nMW\nTR\nTR\nTR\nTR\nTR\nTR\nTR\nT\nT\nMW\nMW\nMW\nMW\nTR\nTR\nTR\nMW\nMW\n\nMW\nMW\nMW\n\n\nTR\nTR\nTR\nTR\nM\nTR\nMW\nMW\n\n\nM\n\nM\nW\nW\nM\nM\nT\nR\nR\nT\nT\nM\nM\nW\nW\nM\nM\nM\nW\nM\nM\nT\nR\nR\nT\nT\nTR\nM\nW\nR\nR\n\nMW\nMW\nT\nMW\nR\n\nTR\nM\nR\n\nT\nT\nT\nT\n\nT\nT\n\nT\n\n\n\nM\n\nM\nR\n\nW\nMW\nTR\nW\nR\nMW\nMW\nMW\nTR\nR\nTWR\nT\nR\nW\nR\nR\nR\nR\n\n\nT\nW\nW\nR\nR\nR\nR\nR\nR\nR\nW\nW\nT\nM\nM\n\nT\nR\nMR\nT\nW\nT\nW\nW\nW\nT\n\n\n\n\n\nR\n\nM\nM\nT\n\nM\nM\nTR\n\nW\nF\nW\nT\nM\n\nW\nT\nT\nW\n\nM\n\n\n\n\n\n\n\n\n\n\nM\n\n\n\n\n\n\n\nM\nT\nT\n\nT\nT\nT\nT\n\n\n\n\n\n\n\n\n\n\n\n\n\nMW\nMW\nTR\nMW\nMW\n\n\nMW\nTR\n\nTR\nTR\n\nF\nTR\nMW\nTR\nTR\nTR\n\nMW\n\nTR\nMW\nR\nT\nTR\nMW\nMW\n\n\n\n\n\n\n\n\n\n\n\n\n\n\n\n\n\n\n\n\n\n\nTR\nTR\n\n\nMW\nTR\n\nMW\nTR\n\n\nTR\nT\n\nMW\nTR\nTR\n\n\nTR\nMW\nMW\nMW\n\nMW\nMW\nTR\nTR\nMW\nTR\nTR\n\n\n\n\n\n\n\n\n\n\nTR\nMW\nMW\nTR\nTR\n\nMW\nTR\n\nTR\nMW\n\n\n\nMW\nMW\nTR\n\n\nMW\nMW\nMW\nTR\nTR\n\n\n\nTR\n\nMW\nTR\nMW\n\nTR\n\n\n\n\nMW\n\n"
     ]
    }
   ],
   "source": [
    "import json\n",
    "\n",
    "with open('sections.json') as f:\n",
    "    sections = json.load(f)\n",
    "\n",
    "dayCount = {}\n",
    "dayCount['M'] = 0\n",
    "\n",
    "for section in sections:\n",
    "   meetings = section['meetings']\n",
    "   for meeting in meetings:\n",
    "       day = meeting['day']\n",
    "       print(day)\n",
    "       for char in day:\n",
    "        if char in dayCount:\n",
    "            dayCount[char] = dayCount[char] + 1\n",
    "        else:\n",
    "            dayCount[char] = 1\n"
   ]
  },
  {
   "cell_type": "code",
   "execution_count": null,
   "metadata": {},
   "outputs": [],
   "source": []
  },
  {
   "cell_type": "code",
   "execution_count": null,
   "metadata": {},
   "outputs": [],
   "source": []
  }
 ]
}